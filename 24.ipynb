{
 "cells": [
  {
   "cell_type": "markdown",
   "metadata": {},
   "source": [
    "A permutation is an ordered arrangement of objects. For example, 3124 is one possible permutation of the digits 1, 2, 3 and 4. If all of the permutations are listed numerically or alphabetically, we call it lexicographic order. The lexicographic permutations of 0, 1 and 2 are:\n",
    "\n",
    "012   021   102   120   201   210\n",
    "\n",
    "What is the millionth lexicographic permutation of the digits 0, 1, 2, 3, 4, 5, 6, 7, 8 and 9?"
   ]
  },
  {
   "cell_type": "markdown",
   "metadata": {},
   "source": [
    "https://stemhash.com/efficient-permutations-in-lexicographic-order/\n",
    "\n",
    "| Radix                 | 8      | 7      | 6      | 5      | 4      | 3      | 2      | 1      |\n",
    "|-----------------------|--------|--------|--------|--------|--------|--------|--------|--------|\n",
    "| Place Value           | 7!     | 6!     | 5!     | 4!     | 3!     | 2!     | 1!     | 0!     |\n",
    "| Place Value in Decimal| 5040   | 720    | 120    | 24     | 6      | 2      | 1      | 1      |\n",
    "| Highest Digit Allowed | 7      | 6      | 5      | 4      | 3      | 2      | 1      | 0      |\n",
    "\n",
    "We want to convert 1,000,000 - 1 to this factorial radix number system."
   ]
  },
  {
   "cell_type": "code",
   "execution_count": 7,
   "metadata": {},
   "outputs": [
    {
     "name": "stdout",
     "output_type": "stream",
     "text": [
      "999999 / 1 = 999999, remainder 0\n",
      "999999 / 2 = 499999, remainder 1\n",
      "499999 / 3 = 166666, remainder 1\n",
      "166666 / 4 = 41666, remainder 2\n",
      "41666 / 5 = 8333, remainder 1\n",
      "8333 / 6 = 1388, remainder 5\n",
      "1388 / 7 = 198, remainder 2\n",
      "198 / 8 = 24, remainder 6\n",
      "24 / 9 = 2, remainder 6\n",
      "2 / 10 = 0, remainder 2\n",
      "\n",
      "[2, 6, 6, 2, 5, 1, 2, 1, 1, 0]\n"
     ]
    }
   ],
   "source": [
    "n = 999_999\n",
    "place = 1\n",
    "rems = []\n",
    "while n > 0:\n",
    "    quotient = n // place\n",
    "    remainder = n % place\n",
    "    print(\"{0} / {1} = {2}, remainder {3}\".format(n, place, quotient, remainder))\n",
    "    n = quotient\n",
    "    rems.append(remainder)\n",
    "    place += 1\n",
    "\n",
    "print()\n",
    "print(list(reversed(rems)))"
   ]
  },
  {
   "cell_type": "markdown",
   "metadata": {},
   "source": [
    "Now, treat the remainders as indices and:"
   ]
  },
  {
   "cell_type": "code",
   "execution_count": 17,
   "metadata": {},
   "outputs": [
    {
     "name": "stdout",
     "output_type": "stream",
     "text": [
      "2783915460\n"
     ]
    }
   ],
   "source": [
    "digits = list(range(0, 10))\n",
    "result = []\n",
    "for i in (list(reversed(rems))):\n",
    "    result.append(digits[i])\n",
    "    digits.pop(i) # remove index i, not value i\n",
    "\n",
    "print(\"\".join(str(x) for x in result))"
   ]
  }
 ],
 "metadata": {
  "kernelspec": {
   "display_name": "Python 3",
   "language": "python",
   "name": "python3"
  },
  "language_info": {
   "codemirror_mode": {
    "name": "ipython",
    "version": 3
   },
   "file_extension": ".py",
   "mimetype": "text/x-python",
   "name": "python",
   "nbconvert_exporter": "python",
   "pygments_lexer": "ipython3",
   "version": "3.11.3"
  },
  "orig_nbformat": 4
 },
 "nbformat": 4,
 "nbformat_minor": 2
}
